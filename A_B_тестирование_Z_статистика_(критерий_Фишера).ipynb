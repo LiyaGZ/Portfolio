{
  "nbformat": 4,
  "nbformat_minor": 0,
  "metadata": {
    "colab": {
      "name": "A/B тестирование Z-статистика (критерий Фишера).ipynb",
      "provenance": [],
      "collapsed_sections": [],
      "authorship_tag": "ABX9TyNoOAOIIeoaR+6Eg7UMFcN2"
    },
    "kernelspec": {
      "name": "python3",
      "display_name": "Python 3"
    },
    "language_info": {
      "name": "python"
    }
  },
  "cells": [
    {
      "cell_type": "markdown",
      "metadata": {
        "id": "KsYFkfdZihQS"
      },
      "source": [
        "ЗАДАНИЕ.\n",
        "В этом задании вам необходимо использовать набор данных ad.csv.\n",
        "1) Датасет содежит 2 столбца: объявление (A/B) и действие (0/1).\n",
        "2) Вам необходимо сформулировать гипотезу, провести ее проверку (пользуясь\n",
        "классическим подходом) и ответить на вопрос какое из объявлений лучше.\n"
      ]
    },
    {
      "cell_type": "markdown",
      "metadata": {
        "id": "dTGsEwHdXavl"
      },
      "source": [
        "Контекст задачи.\n",
        "Команда ux-дизайнеров работает над улучшением рекламного баннера. Конверсия текущего объявления составляет 30%. Цель - достичь показателя конверсии 40%, т.е. новый баннер можно будет считать удачным, если конверсия повысится до 40%."
      ]
    },
    {
      "cell_type": "markdown",
      "metadata": {
        "id": "2MWI1izxOTV0"
      },
      "source": [
        "Формулируем гипотезы.\n",
        "Н0: p(A) = p(B) # коэффициент конверсии А равен коэффициенту конверсии В\n",
        "Н1: p(A) ≠ p(B) # коэффициент конверсии А не равен коэффициенту конверсии В"
      ]
    },
    {
      "cell_type": "code",
      "metadata": {
        "id": "89c7FZeiOgVK"
      },
      "source": [
        "ɑ = 0.05 #критерий значимости объявляем равным 5%. Это значит, что если вероятность наблюдения за результатом (p-значением) ниже ɑ, то гипотеза Н0 отвергается."
      ],
      "execution_count": null,
      "outputs": []
    },
    {
      "cell_type": "code",
      "metadata": {
        "id": "ZS08_UKXimqF"
      },
      "source": [
        "# импортируем все библиотеки\n",
        "\n",
        "import pandas as pd\n",
        "import matplotlib.pyplot as plt\n",
        "import numpy as np\n",
        "import scipy.stats as stats\n",
        "import seaborn as sns\n"
      ],
      "execution_count": null,
      "outputs": []
    },
    {
      "cell_type": "code",
      "metadata": {
        "colab": {
          "base_uri": "https://localhost:8080/",
          "height": 206
        },
        "id": "IeBFkl4XiyAr",
        "outputId": "bd95ec7a-eaa8-4169-f3ee-83cc7a6a3d74"
      },
      "source": [
        "# загружаем датасет в виде датафрейма\n",
        "\n",
        "df = pd.read_csv('ad.csv')\n",
        "df.head()"
      ],
      "execution_count": null,
      "outputs": [
        {
          "output_type": "execute_result",
          "data": {
            "text/html": [
              "<div>\n",
              "<style scoped>\n",
              "    .dataframe tbody tr th:only-of-type {\n",
              "        vertical-align: middle;\n",
              "    }\n",
              "\n",
              "    .dataframe tbody tr th {\n",
              "        vertical-align: top;\n",
              "    }\n",
              "\n",
              "    .dataframe thead th {\n",
              "        text-align: right;\n",
              "    }\n",
              "</style>\n",
              "<table border=\"1\" class=\"dataframe\">\n",
              "  <thead>\n",
              "    <tr style=\"text-align: right;\">\n",
              "      <th></th>\n",
              "      <th>ad_id</th>\n",
              "      <th>action</th>\n",
              "    </tr>\n",
              "  </thead>\n",
              "  <tbody>\n",
              "    <tr>\n",
              "      <th>0</th>\n",
              "      <td>B</td>\n",
              "      <td>1</td>\n",
              "    </tr>\n",
              "    <tr>\n",
              "      <th>1</th>\n",
              "      <td>B</td>\n",
              "      <td>1</td>\n",
              "    </tr>\n",
              "    <tr>\n",
              "      <th>2</th>\n",
              "      <td>A</td>\n",
              "      <td>0</td>\n",
              "    </tr>\n",
              "    <tr>\n",
              "      <th>3</th>\n",
              "      <td>B</td>\n",
              "      <td>0</td>\n",
              "    </tr>\n",
              "    <tr>\n",
              "      <th>4</th>\n",
              "      <td>A</td>\n",
              "      <td>1</td>\n",
              "    </tr>\n",
              "  </tbody>\n",
              "</table>\n",
              "</div>"
            ],
            "text/plain": [
              "  ad_id  action\n",
              "0     B       1\n",
              "1     B       1\n",
              "2     A       0\n",
              "3     B       0\n",
              "4     A       1"
            ]
          },
          "metadata": {},
          "execution_count": 11
        }
      ]
    },
    {
      "cell_type": "markdown",
      "metadata": {
        "id": "BzfB4drSdRua"
      },
      "source": [
        "Описание набора данных\n",
        "А - контрольная группа\n",
        "В - тестовая группа\n",
        "action: 0 - не было клика по объявлению\n",
        "        1 - был клик по объявлению"
      ]
    },
    {
      "cell_type": "code",
      "metadata": {
        "colab": {
          "base_uri": "https://localhost:8080/"
        },
        "id": "3l8lDn5MyYbz",
        "outputId": "3db6167a-8b4c-4783-8ef9-5fb891a87152"
      },
      "source": [
        "# проверяем, сколько было просмотров у каждого объявления\n",
        "\n",
        "df['ad_id'].value_counts()"
      ],
      "execution_count": null,
      "outputs": [
        {
          "output_type": "execute_result",
          "data": {
            "text/plain": [
              "B    1000\n",
              "A    1000\n",
              "Name: ad_id, dtype: int64"
            ]
          },
          "metadata": {},
          "execution_count": 17
        }
      ]
    },
    {
      "cell_type": "code",
      "metadata": {
        "colab": {
          "base_uri": "https://localhost:8080/",
          "height": 143
        },
        "id": "Qyglx8dTYIOz",
        "outputId": "0abf3685-0bb2-454d-d5ab-6e47bdd9269d"
      },
      "source": [
        "# смотрим, сколько было кликов по каждому объявлению\n",
        "\n",
        "summary_df = pd.crosstab(df['ad_id'], df['action'])\n",
        "summary_df"
      ],
      "execution_count": null,
      "outputs": [
        {
          "output_type": "execute_result",
          "data": {
            "text/html": [
              "<div>\n",
              "<style scoped>\n",
              "    .dataframe tbody tr th:only-of-type {\n",
              "        vertical-align: middle;\n",
              "    }\n",
              "\n",
              "    .dataframe tbody tr th {\n",
              "        vertical-align: top;\n",
              "    }\n",
              "\n",
              "    .dataframe thead th {\n",
              "        text-align: right;\n",
              "    }\n",
              "</style>\n",
              "<table border=\"1\" class=\"dataframe\">\n",
              "  <thead>\n",
              "    <tr style=\"text-align: right;\">\n",
              "      <th>action</th>\n",
              "      <th>0</th>\n",
              "      <th>1</th>\n",
              "    </tr>\n",
              "    <tr>\n",
              "      <th>ad_id</th>\n",
              "      <th></th>\n",
              "      <th></th>\n",
              "    </tr>\n",
              "  </thead>\n",
              "  <tbody>\n",
              "    <tr>\n",
              "      <th>A</th>\n",
              "      <td>696</td>\n",
              "      <td>304</td>\n",
              "    </tr>\n",
              "    <tr>\n",
              "      <th>B</th>\n",
              "      <td>628</td>\n",
              "      <td>372</td>\n",
              "    </tr>\n",
              "  </tbody>\n",
              "</table>\n",
              "</div>"
            ],
            "text/plain": [
              "action    0    1\n",
              "ad_id           \n",
              "A       696  304\n",
              "B       628  372"
            ]
          },
          "metadata": {},
          "execution_count": 16
        }
      ]
    },
    {
      "cell_type": "markdown",
      "metadata": {
        "id": "Hkik1EtgyuyN"
      },
      "source": [
        "Вычисляем базовые статистики по каждой группе: среднее, стандартное отклонение и стандартную ошибку среднего"
      ]
    },
    {
      "cell_type": "code",
      "metadata": {
        "colab": {
          "base_uri": "https://localhost:8080/",
          "height": 143
        },
        "id": "NrN0qpWZyrFB",
        "outputId": "831d3023-3e1a-442b-fdf7-8c944b7fd84b"
      },
      "source": [
        "statistics = df.groupby('ad_id')\n",
        "\n",
        "std_p = lambda x: np.std(x,)  # Вычисляем стандартное отклонение\n",
        "se_p = lambda x: stats.sem(x)  # Вычисляем стандартную ошибку среднего\n",
        "\n",
        "statistics = statistics.agg([np.mean, std_p, se_p])\n",
        "statistics.columns = ['average', 'std_p', 'se_p']\n",
        "statistics['action'] = summary_df[1]\n",
        "statistics"
      ],
      "execution_count": null,
      "outputs": [
        {
          "output_type": "execute_result",
          "data": {
            "text/html": [
              "<div>\n",
              "<style scoped>\n",
              "    .dataframe tbody tr th:only-of-type {\n",
              "        vertical-align: middle;\n",
              "    }\n",
              "\n",
              "    .dataframe tbody tr th {\n",
              "        vertical-align: top;\n",
              "    }\n",
              "\n",
              "    .dataframe thead th {\n",
              "        text-align: right;\n",
              "    }\n",
              "</style>\n",
              "<table border=\"1\" class=\"dataframe\">\n",
              "  <thead>\n",
              "    <tr style=\"text-align: right;\">\n",
              "      <th></th>\n",
              "      <th>average</th>\n",
              "      <th>std_p</th>\n",
              "      <th>se_p</th>\n",
              "      <th>action</th>\n",
              "    </tr>\n",
              "    <tr>\n",
              "      <th>ad_id</th>\n",
              "      <th></th>\n",
              "      <th></th>\n",
              "      <th></th>\n",
              "      <th></th>\n",
              "    </tr>\n",
              "  </thead>\n",
              "  <tbody>\n",
              "    <tr>\n",
              "      <th>A</th>\n",
              "      <td>0.304</td>\n",
              "      <td>0.459983</td>\n",
              "      <td>0.014553</td>\n",
              "      <td>304</td>\n",
              "    </tr>\n",
              "    <tr>\n",
              "      <th>B</th>\n",
              "      <td>0.372</td>\n",
              "      <td>0.483338</td>\n",
              "      <td>0.015292</td>\n",
              "      <td>372</td>\n",
              "    </tr>\n",
              "  </tbody>\n",
              "</table>\n",
              "</div>"
            ],
            "text/plain": [
              "       average     std_p      se_p  action\n",
              "ad_id                                     \n",
              "A        0.304  0.459983  0.014553     304\n",
              "B        0.372  0.483338  0.015292     372"
            ]
          },
          "metadata": {},
          "execution_count": 20
        }
      ]
    },
    {
      "cell_type": "markdown",
      "metadata": {
        "id": "snHkBzWQkSh-"
      },
      "source": [
        "Промежуточный вывод:\n",
        "Дизайн рекламы В лучше, чем А (коэффициент конверсии А выше В)\n",
        " "
      ]
    },
    {
      "cell_type": "markdown",
      "metadata": {
        "id": "hq3bbauBPC19"
      },
      "source": [
        "Строим визуализацию"
      ]
    },
    {
      "cell_type": "code",
      "metadata": {
        "colab": {
          "base_uri": "https://localhost:8080/",
          "height": 404
        },
        "id": "eeI3BhW4r0ym",
        "outputId": "56b49576-c003-4188-e5da-e3f3e309761f"
      },
      "source": [
        "plt.figure(figsize=(8,6))\n",
        "\n",
        "sns.barplot(x = df['ad_id'], y = df['action'])\n",
        "plt.title('Conversion rate by group')\n",
        "plt.xlabel('Group')\n",
        "plt.ylabel('Convertion rate');"
      ],
      "execution_count": null,
      "outputs": [
        {
          "output_type": "display_data",
          "data": {
            "image/png": "[encoded data removed]",
            "text/plain": [
              "<Figure size 576x432 with 1 Axes>"
            ]
          },
          "metadata": {
            "needs_background": "light"
          }
        }
      ]
    },
    {
      "cell_type": "markdown",
      "metadata": {
        "id": "s66ugcPxoLek"
      },
      "source": [
        "Можно ли принять, что разница коэффициентов конверсии А и В статистически значима? То есть можем ли мы быть уверены, что разница, которую мы наблюдаем, не случайна?"
      ]
    },
    {
      "cell_type": "markdown",
      "metadata": {
        "id": "nJoYDXnNofeG"
      },
      "source": [
        "Проверяем гипотезу.\n",
        "Используем критерий Z-статистики для конверсии"
      ]
    },
    {
      "cell_type": "code",
      "metadata": {
        "id": "uA5XeTL_pSON"
      },
      "source": [
        "# импортируем объект stats.proportion, который позволяет считать пропорции, из библиотеки statsmodels \n",
        "\n",
        "from statsmodels.stats.proportion import proportions_ztest, proportion_confint"
      ],
      "execution_count": null,
      "outputs": []
    },
    {
      "cell_type": "code",
      "metadata": {
        "id": "dWANgkSHqoPO"
      },
      "source": [
        "# выделяем явно группы: контрольная А и тестовая В\n",
        "\n",
        "control_results = df[df['ad_id'] == 'A']['action']\n",
        "test_results = df[df['ad_id'] == 'B']['action']"
      ],
      "execution_count": null,
      "outputs": []
    },
    {
      "cell_type": "markdown",
      "metadata": {
        "id": "Eqh1ZD5qsWvx"
      },
      "source": [
        "Статистический критерий вернет нам значение p-value, которое позволит оценить, есть ли статистическая значимость в разнице конверсий, которую показывавет наш эксперимент."
      ]
    },
    {
      "cell_type": "markdown",
      "metadata": {
        "id": "8UaEIzvfssTm"
      },
      "source": [
        "Вычисляем p-value."
      ]
    },
    {
      "cell_type": "markdown",
      "metadata": {
        "id": "UzcDw0hbtUYM"
      },
      "source": [
        "Передаем функции proportions_ztest следующие параметры:\n",
        "1) кол-во кликов в каждой группе\n",
        "2) кол-во просмотров"
      ]
    },
    {
      "cell_type": "code",
      "metadata": {
        "id": "d2iUVE8QtqLc"
      },
      "source": [
        "nobs = [control_results.count(), test_results.count()]  # кол-во просмотров в каждой группе\n",
        "successes = [control_results.sum(), test_results.sum()]  # кол-во кликов в каждой группе"
      ],
      "execution_count": null,
      "outputs": []
    },
    {
      "cell_type": "code",
      "metadata": {
        "colab": {
          "base_uri": "https://localhost:8080/"
        },
        "id": "fMX2KMMzu2cs",
        "outputId": "3ddb4857-70bb-4e45-bb10-4e47cb32f652"
      },
      "source": [
        "z_stat, pval = proportions_ztest(successes, nobs)\n",
        "print('z-statistic:', z_stat)\n",
        "print('p-value:', pval)"
      ],
      "execution_count": null,
      "outputs": [
        {
          "output_type": "stream",
          "name": "stdout",
          "text": [
            "z-statistic: -3.2144492244084213\n",
            "p-value: 0.0013069502732125403\n"
          ]
        }
      ]
    },
    {
      "cell_type": "code",
      "metadata": {
        "colab": {
          "base_uri": "https://localhost:8080/"
        },
        "id": "0i7FQQKSxcSa",
        "outputId": "48397f1e-df96-4a5c-9afd-434e9c7045b9"
      },
      "source": [
        "print(pval < ɑ)  # сравниваем p-value с критерием значимости"
      ],
      "execution_count": null,
      "outputs": [
        {
          "output_type": "stream",
          "name": "stdout",
          "text": [
            "True\n"
          ]
        }
      ]
    },
    {
      "cell_type": "markdown",
      "metadata": {
        "id": "HnT9ewqjxz1_"
      },
      "source": [
        "Промежуточный вывод:    \n",
        "Т.к. p-value < 0.05, то отклоняем нулевую гипотезу. Новый дизайн рекламы работал значительно иначе, чем старый."
      ]
    },
    {
      "cell_type": "markdown",
      "metadata": {
        "id": "u8fwUkf-zWev"
      },
      "source": [
        "Для расчета доверительных интервалов воспользуемся методом proportion_confint"
      ]
    },
    {
      "cell_type": "code",
      "metadata": {
        "colab": {
          "base_uri": "https://localhost:8080/"
        },
        "id": "Egtans_bzgfk",
        "outputId": "a1c459d9-a781-4170-a0bb-53fd052b2f72"
      },
      "source": [
        "(lower_con, lower_test), (upper_con, upper_test) = proportion_confint(successes, nobs = nobs, alpha = ɑ)\n",
        "print('Доверительный интервал для контрольной группы А:', lower_con, ' - ', upper_con)\n",
        "print('Доверительный интервал для тестовой группы В:', lower_test, ' - ', upper_test)"
      ],
      "execution_count": null,
      "outputs": [
        {
          "output_type": "stream",
          "name": "stdout",
          "text": [
            "Доверительный интервал для контрольной группы А: 0.2754905064387712  -  0.3325094935612288\n",
            "Доверительный интервал для тестовой группы В: 0.3420429266473629  -  0.4019570733526371\n"
          ]
        }
      ]
    },
    {
      "cell_type": "markdown",
      "metadata": {
        "id": "XcuVFtu_0fnG"
      },
      "source": [
        "Промежуточный вывод:      \n",
        "Применив новый дизайн объявления В, можем ожидать повышения конверсии до 40%."
      ]
    },
    {
      "cell_type": "markdown",
      "metadata": {
        "id": "U72k3pmc1tvh"
      },
      "source": [
        "Итог:     \n",
        "В ходе АВ-тестирования контрольного и тестового вариантов рекламного баннера выявлено, что вариант В имеет больший коэффициент конверсии. Внедрение нового дизайна объявления может повысить коэффициент конверсии до 40%."
      ]
    }
  ]
}