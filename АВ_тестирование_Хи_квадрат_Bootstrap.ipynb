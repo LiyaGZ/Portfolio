{
  "nbformat": 4,
  "nbformat_minor": 0,
  "metadata": {
    "colab": {
      "name": "АВ-тестирование. Хи-квадрат. Bootstrap.ipynb",
      "provenance": [],
      "collapsed_sections": [],
      "authorship_tag": "ABX9TyMViHtcLs4sBE5OdDK4HBdu",
      "include_colab_link": true
    },
    "kernelspec": {
      "name": "python3",
      "display_name": "Python 3"
    },
    "language_info": {
      "name": "python"
    }
  },
  "cells": [
    {
      "cell_type": "markdown",
      "metadata": {
        "id": "view-in-github",
        "colab_type": "text"
      },
      "source": [
        "<a href=\"https://colab.research.google.com/github/LiyaGZ/Portfolio/blob/main/%D0%90%D0%92_%D1%82%D0%B5%D1%81%D1%82%D0%B8%D1%80%D0%BE%D0%B2%D0%B0%D0%BD%D0%B8%D0%B5_%D0%A5%D0%B8_%D0%BA%D0%B2%D0%B0%D0%B4%D1%80%D0%B0%D1%82_Bootstrap.ipynb\" target=\"_parent\"><img src=\"https://colab.research.google.com/assets/colab-badge.svg\" alt=\"Open In Colab\"/></a>"
      ]
    },
    {
      "cell_type": "markdown",
      "source": [
        "***A/B-тестирование на реальном датасете (методы Хи-квадрат и Bootstrap)***"
      ],
      "metadata": {
        "id": "j4Gs_yMU8bKy"
      }
    },
    {
      "cell_type": "markdown",
      "source": [
        "## Формулировка гипотезы"
      ],
      "metadata": {
        "id": "h5d4CNAU8m6M"
      }
    },
    {
      "cell_type": "markdown",
      "source": [
        "Hо: p(a) = p(b)\n",
        "\n",
        "H1: p(a) ≠ p(b)\n",
        "\n",
        "где p(a) и p(b) означают соответственно коэффициент конверсии старого и нового дизайна. "
      ],
      "metadata": {
        "id": "gh3QKtOx8no9"
      }
    },
    {
      "cell_type": "markdown",
      "source": [
        "## Набор данных"
      ],
      "metadata": {
        "id": "51yB6FoGA_cD"
      }
    },
    {
      "cell_type": "code",
      "execution_count": null,
      "metadata": {
        "id": "p_lmzC-6IhY2"
      },
      "outputs": [],
      "source": [
        "# импортируем библиотеки\n",
        "import pandas as pd\n",
        "import numpy as np\n",
        "import seaborn as sns\n",
        "import matplotlib.pyplot as plt\n"
      ]
    },
    {
      "cell_type": "code",
      "source": [
        "# загрузим датасет в виде датафрейма\n",
        "data = pd.read_csv('ab_data.csv', index_col = 0)"
      ],
      "metadata": {
        "id": "JL662zeoz8CN"
      },
      "execution_count": null,
      "outputs": []
    },
    {
      "cell_type": "code",
      "source": [
        "data.head()"
      ],
      "metadata": {
        "colab": {
          "base_uri": "https://localhost:8080/",
          "height": 206
        },
        "id": "kdEbAjIH0MOt",
        "outputId": "dbfc8123-624a-4143-e75c-d2453e5b9dab"
      },
      "execution_count": null,
      "outputs": [
        {
          "output_type": "execute_result",
          "data": {
            "text/html": [
              "\n",
              "  <div id=\"df-bfff7362-5453-45de-b64d-f3a1ebcc6279\">\n",
              "    <div class=\"colab-df-container\">\n",
              "      <div>\n",
              "<style scoped>\n",
              "    .dataframe tbody tr th:only-of-type {\n",
              "        vertical-align: middle;\n",
              "    }\n",
              "\n",
              "    .dataframe tbody tr th {\n",
              "        vertical-align: top;\n",
              "    }\n",
              "\n",
              "    .dataframe thead th {\n",
              "        text-align: right;\n",
              "    }\n",
              "</style>\n",
              "<table border=\"1\" class=\"dataframe\">\n",
              "  <thead>\n",
              "    <tr style=\"text-align: right;\">\n",
              "      <th></th>\n",
              "      <th>user_id</th>\n",
              "      <th>test_group</th>\n",
              "      <th>created_order_in_3_days</th>\n",
              "      <th>order_sum</th>\n",
              "      <th>geo_group</th>\n",
              "      <th>marketing_group</th>\n",
              "    </tr>\n",
              "  </thead>\n",
              "  <tbody>\n",
              "    <tr>\n",
              "      <th>39152</th>\n",
              "      <td>1005040</td>\n",
              "      <td>control</td>\n",
              "      <td>1</td>\n",
              "      <td>5194.269328</td>\n",
              "      <td>msk</td>\n",
              "      <td>target_direct</td>\n",
              "    </tr>\n",
              "    <tr>\n",
              "      <th>19680</th>\n",
              "      <td>1069723</td>\n",
              "      <td>test</td>\n",
              "      <td>0</td>\n",
              "      <td>NaN</td>\n",
              "      <td>msk</td>\n",
              "      <td>target_direct</td>\n",
              "    </tr>\n",
              "    <tr>\n",
              "      <th>6738</th>\n",
              "      <td>1064653</td>\n",
              "      <td>test</td>\n",
              "      <td>0</td>\n",
              "      <td>NaN</td>\n",
              "      <td>msk</td>\n",
              "      <td>target_direct</td>\n",
              "    </tr>\n",
              "    <tr>\n",
              "      <th>12480</th>\n",
              "      <td>1063744</td>\n",
              "      <td>test</td>\n",
              "      <td>1</td>\n",
              "      <td>18940.000000</td>\n",
              "      <td>msk</td>\n",
              "      <td>organic</td>\n",
              "    </tr>\n",
              "    <tr>\n",
              "      <th>6626</th>\n",
              "      <td>1022929</td>\n",
              "      <td>control</td>\n",
              "      <td>0</td>\n",
              "      <td>NaN</td>\n",
              "      <td>spb</td>\n",
              "      <td>social_media</td>\n",
              "    </tr>\n",
              "  </tbody>\n",
              "</table>\n",
              "</div>\n",
              "      <button class=\"colab-df-convert\" onclick=\"convertToInteractive('df-bfff7362-5453-45de-b64d-f3a1ebcc6279')\"\n",
              "              title=\"Convert this dataframe to an interactive table.\"\n",
              "              style=\"display:none;\">\n",
              "        \n",
              "  <svg xmlns=\"http://www.w3.org/2000/svg\" height=\"24px\"viewBox=\"0 0 24 24\"\n",
              "       width=\"24px\">\n",
              "    <path d=\"M0 0h24v24H0V0z\" fill=\"none\"/>\n",
              "    <path d=\"M18.56 5.44l.94 2.06.94-2.06 2.06-.94-2.06-.94-.94-2.06-.94 2.06-2.06.94zm-11 1L8.5 8.5l.94-2.06 2.06-.94-2.06-.94L8.5 2.5l-.94 2.06-2.06.94zm10 10l.94 2.06.94-2.06 2.06-.94-2.06-.94-.94-2.06-.94 2.06-2.06.94z\"/><path d=\"M17.41 7.96l-1.37-1.37c-.4-.4-.92-.59-1.43-.59-.52 0-1.04.2-1.43.59L10.3 9.45l-7.72 7.72c-.78.78-.78 2.05 0 2.83L4 21.41c.39.39.9.59 1.41.59.51 0 1.02-.2 1.41-.59l7.78-7.78 2.81-2.81c.8-.78.8-2.07 0-2.86zM5.41 20L4 18.59l7.72-7.72 1.47 1.35L5.41 20z\"/>\n",
              "  </svg>\n",
              "      </button>\n",
              "      \n",
              "  <style>\n",
              "    .colab-df-container {\n",
              "      display:flex;\n",
              "      flex-wrap:wrap;\n",
              "      gap: 12px;\n",
              "    }\n",
              "\n",
              "    .colab-df-convert {\n",
              "      background-color: #E8F0FE;\n",
              "      border: none;\n",
              "      border-radius: 50%;\n",
              "      cursor: pointer;\n",
              "      display: none;\n",
              "      fill: #1967D2;\n",
              "      height: 32px;\n",
              "      padding: 0 0 0 0;\n",
              "      width: 32px;\n",
              "    }\n",
              "\n",
              "    .colab-df-convert:hover {\n",
              "      background-color: #E2EBFA;\n",
              "      box-shadow: 0px 1px 2px rgba(60, 64, 67, 0.3), 0px 1px 3px 1px rgba(60, 64, 67, 0.15);\n",
              "      fill: #174EA6;\n",
              "    }\n",
              "\n",
              "    [theme=dark] .colab-df-convert {\n",
              "      background-color: #3B4455;\n",
              "      fill: #D2E3FC;\n",
              "    }\n",
              "\n",
              "    [theme=dark] .colab-df-convert:hover {\n",
              "      background-color: #434B5C;\n",
              "      box-shadow: 0px 1px 3px 1px rgba(0, 0, 0, 0.15);\n",
              "      filter: drop-shadow(0px 1px 2px rgba(0, 0, 0, 0.3));\n",
              "      fill: #FFFFFF;\n",
              "    }\n",
              "  </style>\n",
              "\n",
              "      <script>\n",
              "        const buttonEl =\n",
              "          document.querySelector('#df-bfff7362-5453-45de-b64d-f3a1ebcc6279 button.colab-df-convert');\n",
              "        buttonEl.style.display =\n",
              "          google.colab.kernel.accessAllowed ? 'block' : 'none';\n",
              "\n",
              "        async function convertToInteractive(key) {\n",
              "          const element = document.querySelector('#df-bfff7362-5453-45de-b64d-f3a1ebcc6279');\n",
              "          const dataTable =\n",
              "            await google.colab.kernel.invokeFunction('convertToInteractive',\n",
              "                                                     [key], {});\n",
              "          if (!dataTable) return;\n",
              "\n",
              "          const docLinkHtml = 'Like what you see? Visit the ' +\n",
              "            '<a target=\"_blank\" href=https://colab.research.google.com/notebooks/data_table.ipynb>data table notebook</a>'\n",
              "            + ' to learn more about interactive tables.';\n",
              "          element.innerHTML = '';\n",
              "          dataTable['output_type'] = 'display_data';\n",
              "          await google.colab.output.renderOutput(dataTable, element);\n",
              "          const docLink = document.createElement('div');\n",
              "          docLink.innerHTML = docLinkHtml;\n",
              "          element.appendChild(docLink);\n",
              "        }\n",
              "      </script>\n",
              "    </div>\n",
              "  </div>\n",
              "  "
            ],
            "text/plain": [
              "       user_id test_group  ...  geo_group  marketing_group\n",
              "39152  1005040    control  ...        msk    target_direct\n",
              "19680  1069723       test  ...        msk    target_direct\n",
              "6738   1064653       test  ...        msk    target_direct\n",
              "12480  1063744       test  ...        msk          organic\n",
              "6626   1022929    control  ...        spb     social_media\n",
              "\n",
              "[5 rows x 6 columns]"
            ]
          },
          "metadata": {},
          "execution_count": 3
        }
      ]
    },
    {
      "cell_type": "markdown",
      "source": [
        "В колонке created_order_in_3_days:\n",
        "- 0 - для пользователей, которые ничего не купили в течение 3 дней\n",
        "- 1 - для тех, кто совершил покупку в отведенное окно конверсии\n",
        "\n",
        "order_sum - сумма покупки пользователя\n",
        "\n",
        "geo_group - географическое положение пользователя\n",
        "\n",
        "marketing_group - маркетинговый канал привлечения: платный трафик, соцсети, органический, рекламная акция\n",
        "\n",
        "В колонке test_group у каждого пользователя проставлен статус: был он в тестовой группе или в контрольной\n",
        "\n",
        "Посчитаем для каждой группы:\n",
        "- количество пользователей 'user_id': 'count'\n",
        "- сумма единиц - количество пользователей, которые совершили покупку в течение 3 дней 'created_order_in_3_days': 'sum'\n",
        "\n",
        "И добавим новый столбец с конверсией в обеих группах. Количество купивших разделим на общее количество в группе."
      ],
      "metadata": {
        "id": "fCSMHEHa1fwm"
      }
    },
    {
      "cell_type": "code",
      "source": [
        "metrics = data.groupby('test_group', as_index = False).agg({'user_id': 'count', 'created_order_in_3_days': 'sum'})\n",
        "metrics['conversion'] = round(metrics['created_order_in_3_days']/metrics['user_id']*100, 2)\n",
        "metrics"
      ],
      "metadata": {
        "colab": {
          "base_uri": "https://localhost:8080/",
          "height": 112
        },
        "id": "ENWYF6P73G1x",
        "outputId": "4bfc1ac6-6b49-4afe-8326-ec2f476919df"
      },
      "execution_count": null,
      "outputs": [
        {
          "output_type": "execute_result",
          "data": {
            "text/html": [
              "\n",
              "  <div id=\"df-b7451b89-3226-4854-9bda-14b04803f91a\">\n",
              "    <div class=\"colab-df-container\">\n",
              "      <div>\n",
              "<style scoped>\n",
              "    .dataframe tbody tr th:only-of-type {\n",
              "        vertical-align: middle;\n",
              "    }\n",
              "\n",
              "    .dataframe tbody tr th {\n",
              "        vertical-align: top;\n",
              "    }\n",
              "\n",
              "    .dataframe thead th {\n",
              "        text-align: right;\n",
              "    }\n",
              "</style>\n",
              "<table border=\"1\" class=\"dataframe\">\n",
              "  <thead>\n",
              "    <tr style=\"text-align: right;\">\n",
              "      <th></th>\n",
              "      <th>test_group</th>\n",
              "      <th>user_id</th>\n",
              "      <th>created_order_in_3_days</th>\n",
              "      <th>conversion</th>\n",
              "    </tr>\n",
              "  </thead>\n",
              "  <tbody>\n",
              "    <tr>\n",
              "      <th>0</th>\n",
              "      <td>control</td>\n",
              "      <td>5062</td>\n",
              "      <td>1594</td>\n",
              "      <td>31.49</td>\n",
              "    </tr>\n",
              "    <tr>\n",
              "      <th>1</th>\n",
              "      <td>test</td>\n",
              "      <td>4938</td>\n",
              "      <td>1583</td>\n",
              "      <td>32.06</td>\n",
              "    </tr>\n",
              "  </tbody>\n",
              "</table>\n",
              "</div>\n",
              "      <button class=\"colab-df-convert\" onclick=\"convertToInteractive('df-b7451b89-3226-4854-9bda-14b04803f91a')\"\n",
              "              title=\"Convert this dataframe to an interactive table.\"\n",
              "              style=\"display:none;\">\n",
              "        \n",
              "  <svg xmlns=\"http://www.w3.org/2000/svg\" height=\"24px\"viewBox=\"0 0 24 24\"\n",
              "       width=\"24px\">\n",
              "    <path d=\"M0 0h24v24H0V0z\" fill=\"none\"/>\n",
              "    <path d=\"M18.56 5.44l.94 2.06.94-2.06 2.06-.94-2.06-.94-.94-2.06-.94 2.06-2.06.94zm-11 1L8.5 8.5l.94-2.06 2.06-.94-2.06-.94L8.5 2.5l-.94 2.06-2.06.94zm10 10l.94 2.06.94-2.06 2.06-.94-2.06-.94-.94-2.06-.94 2.06-2.06.94z\"/><path d=\"M17.41 7.96l-1.37-1.37c-.4-.4-.92-.59-1.43-.59-.52 0-1.04.2-1.43.59L10.3 9.45l-7.72 7.72c-.78.78-.78 2.05 0 2.83L4 21.41c.39.39.9.59 1.41.59.51 0 1.02-.2 1.41-.59l7.78-7.78 2.81-2.81c.8-.78.8-2.07 0-2.86zM5.41 20L4 18.59l7.72-7.72 1.47 1.35L5.41 20z\"/>\n",
              "  </svg>\n",
              "      </button>\n",
              "      \n",
              "  <style>\n",
              "    .colab-df-container {\n",
              "      display:flex;\n",
              "      flex-wrap:wrap;\n",
              "      gap: 12px;\n",
              "    }\n",
              "\n",
              "    .colab-df-convert {\n",
              "      background-color: #E8F0FE;\n",
              "      border: none;\n",
              "      border-radius: 50%;\n",
              "      cursor: pointer;\n",
              "      display: none;\n",
              "      fill: #1967D2;\n",
              "      height: 32px;\n",
              "      padding: 0 0 0 0;\n",
              "      width: 32px;\n",
              "    }\n",
              "\n",
              "    .colab-df-convert:hover {\n",
              "      background-color: #E2EBFA;\n",
              "      box-shadow: 0px 1px 2px rgba(60, 64, 67, 0.3), 0px 1px 3px 1px rgba(60, 64, 67, 0.15);\n",
              "      fill: #174EA6;\n",
              "    }\n",
              "\n",
              "    [theme=dark] .colab-df-convert {\n",
              "      background-color: #3B4455;\n",
              "      fill: #D2E3FC;\n",
              "    }\n",
              "\n",
              "    [theme=dark] .colab-df-convert:hover {\n",
              "      background-color: #434B5C;\n",
              "      box-shadow: 0px 1px 3px 1px rgba(0, 0, 0, 0.15);\n",
              "      filter: drop-shadow(0px 1px 2px rgba(0, 0, 0, 0.3));\n",
              "      fill: #FFFFFF;\n",
              "    }\n",
              "  </style>\n",
              "\n",
              "      <script>\n",
              "        const buttonEl =\n",
              "          document.querySelector('#df-b7451b89-3226-4854-9bda-14b04803f91a button.colab-df-convert');\n",
              "        buttonEl.style.display =\n",
              "          google.colab.kernel.accessAllowed ? 'block' : 'none';\n",
              "\n",
              "        async function convertToInteractive(key) {\n",
              "          const element = document.querySelector('#df-b7451b89-3226-4854-9bda-14b04803f91a');\n",
              "          const dataTable =\n",
              "            await google.colab.kernel.invokeFunction('convertToInteractive',\n",
              "                                                     [key], {});\n",
              "          if (!dataTable) return;\n",
              "\n",
              "          const docLinkHtml = 'Like what you see? Visit the ' +\n",
              "            '<a target=\"_blank\" href=https://colab.research.google.com/notebooks/data_table.ipynb>data table notebook</a>'\n",
              "            + ' to learn more about interactive tables.';\n",
              "          element.innerHTML = '';\n",
              "          dataTable['output_type'] = 'display_data';\n",
              "          await google.colab.output.renderOutput(dataTable, element);\n",
              "          const docLink = document.createElement('div');\n",
              "          docLink.innerHTML = docLinkHtml;\n",
              "          element.appendChild(docLink);\n",
              "        }\n",
              "      </script>\n",
              "    </div>\n",
              "  </div>\n",
              "  "
            ],
            "text/plain": [
              "  test_group  user_id  created_order_in_3_days  conversion\n",
              "0    control     5062                     1594       31.49\n",
              "1       test     4938                     1583       32.06"
            ]
          },
          "metadata": {},
          "execution_count": 4
        }
      ]
    },
    {
      "cell_type": "markdown",
      "source": [
        "##Необходимо убедиться, что пользователи в каждой группе распределены равномерно по сегментам geo_group и marketing_group"
      ],
      "metadata": {
        "id": "QdSDzOzk6YQB"
      }
    },
    {
      "cell_type": "markdown",
      "source": [
        "Мы хотим быстро посмотреть распределение сегментов в обеих группах. Для этого напишем функцию, которая строит столбчатую диаграмму по сегментам для каждой группы.\n",
        "- по оси Х график выводит сегмент, который мы передадим\n",
        "- по оси У график выводит количество пользователей\n",
        "- в данных мы сгруппируем количество пользователей по тестовой и контрольной группам"
      ],
      "metadata": {
        "id": "K6rNjONL_N72"
      }
    },
    {
      "cell_type": "code",
      "source": [
        "def plot_segments_distribution(df, segment_columns, test_factor):\n",
        "    for segment in segment_columns:\n",
        "        aggregated_data = df.groupby(by = [test_factor, segment])['user_id'].count().reset_index()\n",
        "        sns.catplot (x = segment, \n",
        "                     y = 'user_id',\n",
        "                     hue = test_factor, # сообщаем, что хотим, чтобы разные группы имели разный цвет\n",
        "                     data = aggregated_data,\n",
        "                     kind = 'bar',\n",
        "                     height = 4, # задаем размер графика\n",
        "                     aspect = 1.5) # задаем ширину столбца    "
      ],
      "metadata": {
        "id": "KnEE51rd_1Va"
      },
      "execution_count": null,
      "outputs": []
    },
    {
      "cell_type": "code",
      "source": [
        "# вызовем функцию и построим графики распределения по сегментам:\n",
        "plot_segments_distribution(data, ['geo_group','marketing_group'], 'test_group')"
      ],
      "metadata": {
        "colab": {
          "base_uri": "https://localhost:8080/",
          "height": 577
        },
        "id": "jLnEHdOjE6jK",
        "outputId": "b756fa8b-961f-49b9-8b04-ad6376bc2a08"
      },
      "execution_count": null,
      "outputs": [
        {
          "output_type": "display_data",
          "data": {
            "image/png": "[encoded data removed]",
            "text/plain": [
              "<Figure size 502.5x288 with 1 Axes>"
            ]
          },
          "metadata": {
            "needs_background": "light"
          }
        },
        {
          "output_type": "display_data",
          "data": {
            "image/png": "[encoded data removed]",
            "text/plain": [
              "<Figure size 502.5x288 with 1 Axes>"
            ]
          },
          "metadata": {
            "needs_background": "light"
          }
        }
      ]
    },
    {
      "cell_type": "markdown",
      "source": [
        "##Используем критерий Хи-квадрат для конверсии"
      ],
      "metadata": {
        "id": "Yg2_GMt5Gwrk"
      }
    },
    {
      "cell_type": "markdown",
      "source": [
        "Мы поняли, что собранные данные правильно распределены по сегментам. Теперь пришло время оценить, насколько разница в конверсии, которую мы получили на собранных данных, статистически значима. То есть, можем ли мы быть уверены, что разница, которую мы наблюдаем - неслучайна.\n",
        "\n",
        "Для такого анализа используют статистические критерии.\n",
        "Они бывают разными для разных данных.\n",
        "\n",
        "Хи-квадрат - критерий, который подходит для оценки конверсии, поскольку данные конверсии - дискретные: пользователь либо совершил покупку, и мы присвоили ему 1, либо не совершил, и мы присвоили ему 0.\n",
        "\n",
        "Функция, которая нам нужна, чтобы использовать Хи-квадрат, есть в библиотеке statsmodels. Мы импортируем из нее объект stats.proportion, который позволяет считать пропорции."
      ],
      "metadata": {
        "id": "nrR3uDp3G2iW"
      }
    },
    {
      "cell_type": "code",
      "source": [
        "import statsmodels.stats.proportion as proportion"
      ],
      "metadata": {
        "colab": {
          "base_uri": "https://localhost:8080/"
        },
        "id": "rX2hNPMVw3Np",
        "outputId": "ee947e96-0ad7-4d5f-9d52-834d46bd52dd"
      },
      "execution_count": null,
      "outputs": [
        {
          "output_type": "stream",
          "name": "stderr",
          "text": [
            "/usr/local/lib/python3.7/dist-packages/statsmodels/tools/_testing.py:19: FutureWarning: pandas.util.testing is deprecated. Use the functions in the public API at pandas.testing instead.\n",
            "  import pandas.util.testing as tm\n"
          ]
        }
      ]
    },
    {
      "cell_type": "markdown",
      "source": [
        "Статистический критерий вернет нам значение p-value, которое поможет оценить: есть ли статистическая значимость в разнице конверсий, которую показывает наш эксперимент."
      ],
      "metadata": {
        "id": "9Kx-S7tjxEz0"
      }
    },
    {
      "cell_type": "markdown",
      "source": [
        "##Посчитаем p-value"
      ],
      "metadata": {
        "id": "FfAmpJMKyGJF"
      }
    },
    {
      "cell_type": "markdown",
      "source": [
        "Передаем функции proportions_chisquare() параметры:\n",
        "1) количество покупок в наших группах - значения колонки 'created_order_in_3_days'\n",
        "2) количество наблюдений - всех пользователей из колонки 'user_id'\n",
        "\n",
        "Так как функция возвращает 3 значения, мы сразу создадим 3 переменные через запятую:\n",
        "- chi2stat - статистика под капотом критерия\n",
        "- pval - интересующее нас значение p-value\n",
        "- table - таблица сопряженности: она помогает исследовать связи в распределениях, но в данной задаче она нам не понадобится\n"
      ],
      "metadata": {
        "id": "YSWjkR8PyIds"
      }
    },
    {
      "cell_type": "code",
      "source": [
        "chi2stat, pval, table = proportion.proportions_chisquare(metrics['created_order_in_3_days'], metrics['user_id'])"
      ],
      "metadata": {
        "id": "qzTepVS-0UcM"
      },
      "execution_count": null,
      "outputs": []
    },
    {
      "cell_type": "markdown",
      "source": [
        "Так как ни один статистический критерий не дает 100% уверенности, мы зададим ему порог 5% для ошибки первого рода - то есть согласимся, что 5% наших наблюдений будут ошибочными."
      ],
      "metadata": {
        "id": "96FYNrZn1fHI"
      }
    },
    {
      "cell_type": "code",
      "source": [
        "alpha = 0.05"
      ],
      "metadata": {
        "id": "gVdwKHbB1xyA"
      },
      "execution_count": null,
      "outputs": []
    },
    {
      "cell_type": "markdown",
      "source": [
        "p-value - это фактическая вероятность попасть в ошибку первого рода на наших данных, если мы отклоним нулевую гипотезу. **Сравним p-value с желаемым уровнем точности нашего эксперимента.**\n",
        "\n",
        "- Если **p-value меньше** порога ошибки первого рода - результат эксперимента можно считать статзначимым.\n",
        "- Если **p-value больше** - мы будем вынуждены признать разницу в значениях контрольной и тестовой группы случайной"
      ],
      "metadata": {
        "id": "rLa7I_QZ1zor"
      }
    },
    {
      "cell_type": "code",
      "source": [
        "print(pval < alpha)"
      ],
      "metadata": {
        "colab": {
          "base_uri": "https://localhost:8080/"
        },
        "id": "mMOnDoNd3eap",
        "outputId": "b2848157-19d9-419f-8019-31d0ba4e9c3d"
      },
      "execution_count": null,
      "outputs": [
        {
          "output_type": "stream",
          "name": "stdout",
          "text": [
            "False\n"
          ]
        }
      ]
    },
    {
      "cell_type": "markdown",
      "source": [
        "**Статистически значимой разницы в конверсии не обнаружено, т.к. p-value выше выбранного порога ошибки первого рода.** "
      ],
      "metadata": {
        "id": "H993vU7k3nJM"
      }
    },
    {
      "cell_type": "markdown",
      "source": [
        "## Используем Bootstrap для среднего чека"
      ],
      "metadata": {
        "id": "gwtVJjPkAKXm"
      }
    },
    {
      "cell_type": "markdown",
      "source": [
        "Прежде чем делать выводы, проверим, нет ли значимого изменения среднего чека, ведь конверсия и средний чек - это метрики, которые тесно связаны: если улучшить одну, другая может стать хуже.\n",
        "\n",
        "Для среднего чека не подходит Хи-квадрат, т.к. эта метрика не дискретная: у среднего чека большой разброс значений на разных пользователей, которые редко распределены нормально. Поэтому Т-тест тоже не подходит.\n",
        "\n",
        "Здесь поможет метод ***Bootstrap***.\n",
        "\n",
        "Он уже реализован в библиотеке bootstrapped - скачаем ее:"
      ],
      "metadata": {
        "id": "w9jotd17APz-"
      }
    },
    {
      "cell_type": "code",
      "source": [
        "# скачиваем библиотеку с помощью !pip\n",
        "!pip install bootstrapped"
      ],
      "metadata": {
        "colab": {
          "base_uri": "https://localhost:8080/"
        },
        "id": "zxCWXJrlCB74",
        "outputId": "a8a69e15-b240-4496-bc94-81d7da606289"
      },
      "execution_count": null,
      "outputs": [
        {
          "output_type": "stream",
          "name": "stdout",
          "text": [
            "Collecting bootstrapped\n",
            "  Downloading bootstrapped-0.0.2.tar.gz (11 kB)\n",
            "Requirement already satisfied: matplotlib>=1.5.3 in /usr/local/lib/python3.7/dist-packages (from bootstrapped) (3.2.2)\n",
            "Requirement already satisfied: numpy>=1.11.1 in /usr/local/lib/python3.7/dist-packages (from bootstrapped) (1.19.5)\n",
            "Requirement already satisfied: pandas>=0.18.1 in /usr/local/lib/python3.7/dist-packages (from bootstrapped) (1.1.5)\n",
            "Requirement already satisfied: cycler>=0.10 in /usr/local/lib/python3.7/dist-packages (from matplotlib>=1.5.3->bootstrapped) (0.11.0)\n",
            "Requirement already satisfied: pyparsing!=2.0.4,!=2.1.2,!=2.1.6,>=2.0.1 in /usr/local/lib/python3.7/dist-packages (from matplotlib>=1.5.3->bootstrapped) (3.0.7)\n",
            "Requirement already satisfied: kiwisolver>=1.0.1 in /usr/local/lib/python3.7/dist-packages (from matplotlib>=1.5.3->bootstrapped) (1.3.2)\n",
            "Requirement already satisfied: python-dateutil>=2.1 in /usr/local/lib/python3.7/dist-packages (from matplotlib>=1.5.3->bootstrapped) (2.8.2)\n",
            "Requirement already satisfied: pytz>=2017.2 in /usr/local/lib/python3.7/dist-packages (from pandas>=0.18.1->bootstrapped) (2018.9)\n",
            "Requirement already satisfied: six>=1.5 in /usr/local/lib/python3.7/dist-packages (from python-dateutil>=2.1->matplotlib>=1.5.3->bootstrapped) (1.15.0)\n",
            "Building wheels for collected packages: bootstrapped\n",
            "  Building wheel for bootstrapped (setup.py) ... \u001b[?25l\u001b[?25hdone\n",
            "  Created wheel for bootstrapped: filename=bootstrapped-0.0.2-py2.py3-none-any.whl size=13954 sha256=359e4a72ec54f921a605cacbef1c480f970ddeed69b5713622ed48fff04a9421\n",
            "  Stored in directory: /root/.cache/pip/wheels/15/55/6a/9a722f067ac4c3dfab359ed2ec7906b9cc6649156d9886bd59\n",
            "Successfully built bootstrapped\n",
            "Installing collected packages: bootstrapped\n",
            "Successfully installed bootstrapped-0.0.2\n"
          ]
        }
      ]
    },
    {
      "cell_type": "code",
      "source": [
        "# импортируем необходимые модули\n",
        "import bootstrapped.bootstrap as bs\n",
        "import bootstrapped.stats_functions as bs_stats\n",
        "import bootstrapped.compare_functions as bs_compare"
      ],
      "metadata": {
        "id": "FIL0A8y9CvPE"
      },
      "execution_count": null,
      "outputs": []
    },
    {
      "cell_type": "markdown",
      "source": [
        "***Нам понадобится функция bootstrap_ab. Чтобы подготовить данные, давайте посмотрим, какие аргументы она принимает:***"
      ],
      "metadata": {
        "id": "Bq9svn7IGMEj"
      }
    },
    {
      "cell_type": "markdown",
      "source": [
        "\n",
        "\n",
        "Первый аргумент - test - массив с данными тестовой группы.\n",
        "\n",
        "Наши данные в датафрейме data не подходят, т.к. в них тестовая и контрольная группы вместе. Кроме того, есть пользователи без покупок - их не нужно учитывать в подсчете среднего чека.\n",
        "\n",
        "- Отделим только пользователей из тестовой группы.\n",
        "- Удалим пустые значения, т.е. пользователей, не сделавших покупку.\n",
        "- Метод .values превратит серию в массив.\n",
        "\n",
        "*Массив - это структура данных, которая похожа на списки. Но в отличие от них массивы хранят только данные одного типа. Например, только строки или только числовые данные.*"
      ],
      "metadata": {
        "id": "y8J56vSXDLL6"
      }
    },
    {
      "cell_type": "code",
      "source": [
        "test = data[data['test_group'] == 'test']['order_sum'].dropna().values"
      ],
      "metadata": {
        "id": "8wvSXMX5FiNL"
      },
      "execution_count": null,
      "outputs": []
    },
    {
      "cell_type": "markdown",
      "source": [
        "Второй аргумент - ctrl - массив с данными контрольной группы.\n",
        "\n",
        "- Отделим только пользователей из контрольной группы.\n",
        "- Удалим пустые значения, т.е. пользователей, не сделавших покупку.\n",
        "- Метод .values превратит серию в массив. "
      ],
      "metadata": {
        "id": "YpSEMFL9GH5k"
      }
    },
    {
      "cell_type": "code",
      "source": [
        "ctrl = data[data['test_group'] == 'control']['order_sum'].dropna().values"
      ],
      "metadata": {
        "id": "KlCRZXAiHSFv"
      },
      "execution_count": null,
      "outputs": []
    },
    {
      "cell_type": "markdown",
      "source": [
        "Также нам понадобятся аргументы:\n",
        "- stat_func = bs_stats.mean - что мы хотим исследовать. В нашем случае - среднее значение\n",
        "- compare_func = bs_compare.difference - как мы хотим исследовать. В нашем случае - хотим взять разницу между группами\n",
        "- return_distribution = True - вернем набор разниц, который функция получает в результате всех итераций\n",
        "\n",
        "Чтобы сохранить то, что возвращает функция, запишем результат ее работы в переменную boot_results.\n",
        "\n"
      ],
      "metadata": {
        "id": "SezioLORHhc3"
      }
    },
    {
      "cell_type": "code",
      "source": [
        "boot_results = bs.bootstrap_ab(test = test, ctrl = ctrl, \n",
        "                               stat_func = bs_stats.mean,\n",
        "                               compare_func = bs_compare.difference,\n",
        "                               return_distribution = True)"
      ],
      "metadata": {
        "id": "PRNmn5cQKKeQ"
      },
      "execution_count": null,
      "outputs": []
    },
    {
      "cell_type": "markdown",
      "source": [
        "Мы получили массив разниц в средних чеках между нашими группами."
      ],
      "metadata": {
        "id": "ucNh9P62KkFv"
      }
    },
    {
      "cell_type": "code",
      "source": [
        "boot_results"
      ],
      "metadata": {
        "colab": {
          "base_uri": "https://localhost:8080/"
        },
        "id": "LBV6tp9MKpwZ",
        "outputId": "ceee40a4-ad3f-49f3-8e30-f8892937928e"
      },
      "execution_count": null,
      "outputs": [
        {
          "output_type": "execute_result",
          "data": {
            "text/plain": [
              "array([431.54013338, 102.40255947, 295.14238175, ..., 222.41022605,\n",
              "       411.72174583, 234.86645106])"
            ]
          },
          "metadata": {},
          "execution_count": 18
        }
      ]
    },
    {
      "cell_type": "markdown",
      "source": [
        "##Доверительный интервал\n",
        "\n",
        "Значение среднего чека, которое мы получили для обеих групп, верно только для тех групп пользователей, которые пришли в течение эксперимента. Если бы в эксперименте участвовали похожие, но другие пользователи - значение среднего чека немного, но отличалось бы. Понять, насколько могут отличаться похожие группы в нашем эксперименте, поможет доверительный интервал.\n",
        "\n",
        "Уровень доверия обычно устанавливают в 95%. То есть можно сказать, что в 95% аналогичных экспериментов конверсия будет колебаться внутри этого интервала.\n",
        "\n",
        "**Зададим границы доверительного интервала от 2,5 до 97,5 - между ними как раз 95%.**"
      ],
      "metadata": {
        "id": "3OEM-7nZQf3Q"
      }
    },
    {
      "cell_type": "code",
      "source": [
        "borders = np.percentile(boot_results, [2.5, 97.5])   # считаем персентили\n",
        "borders"
      ],
      "metadata": {
        "colab": {
          "base_uri": "https://localhost:8080/"
        },
        "id": "ZWJuG5NFR9pF",
        "outputId": "0fe574c5-9b80-42cf-ab01-7ee7ec9f35eb"
      },
      "execution_count": null,
      "outputs": [
        {
          "output_type": "execute_result",
          "data": {
            "text/plain": [
              "array([-123.43103288,  496.08423168])"
            ]
          },
          "metadata": {},
          "execution_count": 20
        }
      ]
    },
    {
      "cell_type": "markdown",
      "source": [
        "Используем полученный выше массив в переменной boot_results, чтобы выяснить доверительный интервал - то есть тот интервал колебаний среднего чека похожих экспериментов.\n",
        "\n",
        "Если ноль не входит в доверительный интервал, аналогично условию p_value < alpha, - разница значима."
      ],
      "metadata": {
        "id": "zJJ38PpbScd8"
      }
    },
    {
      "cell_type": "code",
      "source": [
        "sns.distplot(boot_results)   # функция построения распределения\n",
        "plt.title('Bootstrap-распределение разниц среднего чека')\n",
        "plt.rcParams[\"figure.figsize\"] = (12, 6)\n",
        "plt.vlines(0,   # отрисуем линию на уровне ноля\n",
        "           ymin = 0,\n",
        "           ymax = 0.003,\n",
        "           linestyles = '--',\n",
        "           colors = 'red')\n",
        "plt.vlines(borders,   # отрисуем персентили\n",
        "           ymin = 0,\n",
        "           ymax = 0.003,\n",
        "           linestyles = '--',\n",
        "           colors = 'grey',\n",
        "           label = '95% доверительный интервал')\n",
        "plt.legend()\n",
        "plt.show()"
      ],
      "metadata": {
        "colab": {
          "base_uri": "https://localhost:8080/",
          "height": 336
        },
        "id": "3MLDM-ZpUVvy",
        "outputId": "05d96446-901d-4094-a39f-c2c1314c55d8"
      },
      "execution_count": null,
      "outputs": [
        {
          "output_type": "stream",
          "name": "stderr",
          "text": [
            "/usr/local/lib/python3.7/dist-packages/seaborn/distributions.py:2619: FutureWarning: `distplot` is a deprecated function and will be removed in a future version. Please adapt your code to use either `displot` (a figure-level function with similar flexibility) or `histplot` (an axes-level function for histograms).\n",
            "  warnings.warn(msg, FutureWarning)\n"
          ]
        },
        {
          "output_type": "display_data",
          "data": {
            "image/png": "[encoded data removed]",
            "text/plain": [
              "<Figure size 432x288 with 1 Axes>"
            ]
          },
          "metadata": {
            "needs_background": "light"
          }
        }
      ]
    },
    {
      "cell_type": "markdown",
      "source": [
        "##Результат\n",
        "\n",
        "Статистически значимой разницы в среднем чеке не обнаружено, т.к. 0 входит в доверительный интервал разницы между группами."
      ],
      "metadata": {
        "id": "cqa8kX4uVout"
      }
    }
  ]
}